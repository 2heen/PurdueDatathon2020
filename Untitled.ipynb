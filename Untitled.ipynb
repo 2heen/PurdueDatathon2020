{
 "cells": [
  {
   "cell_type": "code",
   "execution_count": 1,
   "metadata": {},
   "outputs": [],
   "source": [
    "from pyhdf.SD import SD, SDC"
   ]
  },
  {
   "cell_type": "code",
   "execution_count": 44,
   "metadata": {},
   "outputs": [
    {
     "name": "stdout",
     "output_type": "stream",
     "text": [
      "{'NumCycles': (('YDim:MCD12Q2', 'XDim:MCD12Q2'), (2400, 2400), 22, 0), 'Greenup': (('YDim:MCD12Q2', 'XDim:MCD12Q2', 'Num_Modes:MCD12Q2'), (2400, 2400, 2), 22, 1), 'MidGreenup': (('YDim:MCD12Q2', 'XDim:MCD12Q2', 'Num_Modes:MCD12Q2'), (2400, 2400, 2), 22, 2), 'Peak': (('YDim:MCD12Q2', 'XDim:MCD12Q2', 'Num_Modes:MCD12Q2'), (2400, 2400, 2), 22, 3), 'Maturity': (('YDim:MCD12Q2', 'XDim:MCD12Q2', 'Num_Modes:MCD12Q2'), (2400, 2400, 2), 22, 4), 'Senescence': (('YDim:MCD12Q2', 'XDim:MCD12Q2', 'Num_Modes:MCD12Q2'), (2400, 2400, 2), 22, 5), 'MidGreendown': (('YDim:MCD12Q2', 'XDim:MCD12Q2', 'Num_Modes:MCD12Q2'), (2400, 2400, 2), 22, 6), 'Dormancy': (('YDim:MCD12Q2', 'XDim:MCD12Q2', 'Num_Modes:MCD12Q2'), (2400, 2400, 2), 22, 7), 'EVI_Minimum': (('YDim:MCD12Q2', 'XDim:MCD12Q2', 'Num_Modes:MCD12Q2'), (2400, 2400, 2), 22, 8), 'EVI_Amplitude': (('YDim:MCD12Q2', 'XDim:MCD12Q2', 'Num_Modes:MCD12Q2'), (2400, 2400, 2), 22, 9), 'EVI_Area': (('YDim:MCD12Q2', 'XDim:MCD12Q2', 'Num_Modes:MCD12Q2'), (2400, 2400, 2), 22, 10), 'QA_Overall': (('YDim:MCD12Q2', 'XDim:MCD12Q2', 'Num_Modes:MCD12Q2'), (2400, 2400, 2), 22, 11), 'QA_Detailed': (('YDim:MCD12Q2', 'XDim:MCD12Q2', 'Num_Modes:MCD12Q2'), (2400, 2400, 2), 22, 12)}\n"
     ]
    }
   ],
   "source": [
    "file_name = \"MCD12Q2.A2010001.h21v04.006.2019046132500.hdf\"\n",
    "file = SD(file_name, SDC.READ)\n",
    "\n",
    "print(file.datasets())"
   ]
  },
  {
   "cell_type": "code",
   "execution_count": 46,
   "metadata": {},
   "outputs": [],
   "source": [
    "x = file.select(\"NumCycles\")"
   ]
  },
  {
   "cell_type": "code",
   "execution_count": 47,
   "metadata": {},
   "outputs": [
    {
     "data": {
      "text/plain": [
       "<matplotlib.image.AxesImage at 0x1138e1750>"
      ]
     },
     "execution_count": 47,
     "metadata": {},
     "output_type": "execute_result"
    },
    {
     "data": {
      "image/png": "[encoded data removed]",
      "text/plain": [
       "<Figure size 432x288 with 1 Axes>"
      ]
     },
     "metadata": {
      "needs_background": "light"
     },
     "output_type": "display_data"
    }
   ],
   "source": [
    "from matplotlib.pyplot import imshow\n",
    "imshow(x.get())"
   ]
  },
  {
   "cell_type": "code",
   "execution_count": 43,
   "metadata": {},
   "outputs": [
    {
     "ename": "IndexError",
     "evalue": "too many indices for array",
     "output_type": "error",
     "traceback": [
      "\u001b[0;31m---------------------------------------------------------------------------\u001b[0m",
      "\u001b[0;31mIndexError\u001b[0m                                Traceback (most recent call last)",
      "\u001b[0;32m<ipython-input-43-c9098c878dd5>\u001b[0m in \u001b[0;36m<module>\u001b[0;34m\u001b[0m\n\u001b[1;32m      8\u001b[0m \u001b[0mj\u001b[0m \u001b[0;34m=\u001b[0m \u001b[0;36m236\u001b[0m\u001b[0;34m\u001b[0m\u001b[0;34m\u001b[0m\u001b[0m\n\u001b[1;32m      9\u001b[0m \u001b[0;34m\u001b[0m\u001b[0m\n\u001b[0;32m---> 10\u001b[0;31m \u001b[0mstatus_flag\u001b[0m \u001b[0;34m=\u001b[0m \u001b[0mbits_stripping\u001b[0m\u001b[0;34m(\u001b[0m\u001b[0;36m0\u001b[0m\u001b[0;34m,\u001b[0m\u001b[0;36m1\u001b[0m\u001b[0;34m,\u001b[0m\u001b[0mx\u001b[0m\u001b[0;34m.\u001b[0m\u001b[0mget\u001b[0m\u001b[0;34m(\u001b[0m\u001b[0;34m)\u001b[0m\u001b[0;34m[\u001b[0m\u001b[0mi\u001b[0m\u001b[0;34m,\u001b[0m\u001b[0mj\u001b[0m\u001b[0;34m,\u001b[0m\u001b[0;36m0\u001b[0m\u001b[0;34m]\u001b[0m\u001b[0;34m)\u001b[0m\u001b[0;34m\u001b[0m\u001b[0;34m\u001b[0m\u001b[0m\n\u001b[0m\u001b[1;32m     11\u001b[0m \u001b[0mday_flag\u001b[0m \u001b[0;34m=\u001b[0m \u001b[0mbits_stripping\u001b[0m\u001b[0;34m(\u001b[0m\u001b[0;36m3\u001b[0m\u001b[0;34m,\u001b[0m\u001b[0;36m1\u001b[0m\u001b[0;34m,\u001b[0m\u001b[0mx\u001b[0m\u001b[0;34m.\u001b[0m\u001b[0mget\u001b[0m\u001b[0;34m(\u001b[0m\u001b[0;34m)\u001b[0m\u001b[0;34m[\u001b[0m\u001b[0mi\u001b[0m\u001b[0;34m,\u001b[0m\u001b[0mj\u001b[0m\u001b[0;34m,\u001b[0m\u001b[0;36m0\u001b[0m\u001b[0;34m]\u001b[0m\u001b[0;34m)\u001b[0m\u001b[0;34m\u001b[0m\u001b[0;34m\u001b[0m\u001b[0m\n\u001b[1;32m     12\u001b[0m \u001b[0mcloud_mask_flag\u001b[0m \u001b[0;34m=\u001b[0m \u001b[0mbits_stripping\u001b[0m\u001b[0;34m(\u001b[0m\u001b[0;36m1\u001b[0m\u001b[0;34m,\u001b[0m\u001b[0;36m2\u001b[0m\u001b[0;34m,\u001b[0m\u001b[0mx\u001b[0m\u001b[0;34m.\u001b[0m\u001b[0mget\u001b[0m\u001b[0;34m(\u001b[0m\u001b[0;34m)\u001b[0m\u001b[0;34m[\u001b[0m\u001b[0mi\u001b[0m\u001b[0;34m,\u001b[0m\u001b[0mj\u001b[0m\u001b[0;34m,\u001b[0m\u001b[0;36m0\u001b[0m\u001b[0;34m]\u001b[0m\u001b[0;34m)\u001b[0m\u001b[0;34m\u001b[0m\u001b[0;34m\u001b[0m\u001b[0m\n",
      "\u001b[0;31mIndexError\u001b[0m: too many indices for array"
     ]
    }
   ],
   "source": [
    "import numpy as np\n",
    "\n",
    "def bits_stripping(bit_start,bit_count,value):\n",
    "    bitmask=pow(2,bit_start+bit_count)-1\n",
    "    return np.right_shift(np.bitwise_and(value,bitmask),bit_start)\n",
    "\n",
    "i = 576 # random pixel\n",
    "j = 236\n",
    "\n",
    "status_flag = bits_stripping(0,1,x.get()[i,j,0]) \n",
    "day_flag = bits_stripping(3,1,x.get()[i,j,0]) \n",
    "cloud_mask_flag = bits_stripping(1,2,x.get()[i,j,0])\n",
    "\n",
    "print( 'Cloud Mask determined: ',  status_flag )\n",
    "print( 'Cloud Mask day or night: ',  day_flag )\n",
    "print( 'Cloud Mask: ',  cloud_mask_flag )"
   ]
  },
  {
   "cell_type": "code",
   "execution_count": null,
   "metadata": {},
   "outputs": [],
   "source": []
  }
 ],
 "metadata": {
  "hide_input": false,
  "kernelspec": {
   "display_name": "Python 3",
   "language": "python",
   "name": "python3"
  },
  "language_info": {
   "codemirror_mode": {
    "name": "ipython",
    "version": 3
   },
   "file_extension": ".py",
   "mimetype": "text/x-python",
   "name": "python",
   "nbconvert_exporter": "python",
   "pygments_lexer": "ipython3",
   "version": "3.7.4"
  }
 },
 "nbformat": 4,
 "nbformat_minor": 2
}
